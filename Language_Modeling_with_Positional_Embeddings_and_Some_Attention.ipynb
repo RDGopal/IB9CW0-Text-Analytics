{
  "nbformat": 4,
  "nbformat_minor": 0,
  "metadata": {
    "colab": {
      "provenance": [],
      "authorship_tag": "ABX9TyOOVoSWDbZLfJgqqQhyNqa4",
      "include_colab_link": true
    },
    "kernelspec": {
      "name": "python3",
      "display_name": "Python 3"
    },
    "language_info": {
      "name": "python"
    }
  },
  "cells": [
    {
      "cell_type": "markdown",
      "metadata": {
        "id": "view-in-github",
        "colab_type": "text"
      },
      "source": [
        "<a href=\"https://colab.research.google.com/github/RDGopal/IB9CW0-Text-Analytics/blob/main/Language_Modeling_with_Positional_Embeddings_and_Some_Attention.ipynb\" target=\"_parent\"><img src=\"https://colab.research.google.com/assets/colab-badge.svg\" alt=\"Open In Colab\"/></a>"
      ]
    },
    {
      "cell_type": "markdown",
      "source": [
        "#Language Model with Positional Embeddings and Elementary 'Attention'\n",
        "\n",
        "We will expand the previous simple language model by adding  positional embeddings and simplified attention. As before we will use the Jane Austen novel 'Sense and Sensibility' to train the language model.\n",
        "\n",
        "First we go through the preliminaries to get the model ready to train."
      ],
      "metadata": {
        "id": "3xvfc50c3q5_"
      }
    },
    {
      "cell_type": "code",
      "source": [
        "import nltk\n",
        "nltk.download('gutenberg')  # Make sure the Gutenberg corpus is downloaded\n",
        "from nltk.corpus import gutenberg"
      ],
      "metadata": {
        "id": "mUhVAAMI4VXR"
      },
      "execution_count": null,
      "outputs": []
    },
    {
      "cell_type": "markdown",
      "source": [
        "#Preliminaries"
      ],
      "metadata": {
        "id": "Gly10Lq0awtD"
      }
    },
    {
      "cell_type": "code",
      "source": [
        "# Load \"Sense and Sensibility\" text\n",
        "sas = gutenberg.raw('austen-sense.txt')\n",
        "\n",
        "# Print the first 500 characters of \"Sense and Sensibility\"\n",
        "print(sas[:500])\n"
      ],
      "metadata": {
        "id": "ZWmkgwQIWnu1"
      },
      "execution_count": null,
      "outputs": []
    },
    {
      "cell_type": "markdown",
      "source": [
        "## Embeddings\n",
        "We will use the `gensim` library, which provides straightforward implementations of `word2vec`, to create word embeddings using the CBOW model. To keep it simple, we will create embeddings of size 5."
      ],
      "metadata": {
        "id": "WcvwuYiDf-SE"
      }
    },
    {
      "cell_type": "code",
      "source": [
        "from gensim.models import Word2Vec\n",
        "from nltk.tokenize import word_tokenize\n",
        "import nltk\n",
        "nltk.download('punkt')\n",
        "\n",
        "# Tokenize\n",
        "tokens = word_tokenize(sas)\n",
        "\n",
        "# Organize the tokens into sentences, Word2Vec needs data in format of list of lists of tokens\n",
        "sentences = [tokens[i:i+100] for i in range(0, len(tokens), 100)]\n"
      ],
      "metadata": {
        "id": "52rocFVboYXz"
      },
      "execution_count": null,
      "outputs": []
    },
    {
      "cell_type": "code",
      "source": [
        "# Train the CBOW model\n",
        "model = Word2Vec(sentences, vector_size=5, window=5, min_count=1, sg=0)  # sg=0 specifies CBOW\n"
      ],
      "metadata": {
        "id": "HO3VOV1Coa4i"
      },
      "execution_count": null,
      "outputs": []
    },
    {
      "cell_type": "markdown",
      "source": [
        "##Tokenizer\n",
        "Once we get the embeddings, we will store the words (tokens), token ids, and embeddings in a dataframe.\n",
        "\n",
        "Note that the number of distinct words (tokens) is 7111. This is the size of our vocabulary."
      ],
      "metadata": {
        "id": "it6haWBx9wI4"
      }
    },
    {
      "cell_type": "code",
      "source": [
        "import pandas as pd\n",
        "# Create a DataFrame to store word, token_id, and embedding\n",
        "data = {\n",
        "    'word': [],\n",
        "    'token_id': [],\n",
        "    'embedding': []\n",
        "}\n",
        "\n",
        "for idx, word in enumerate(model.wv.index_to_key):\n",
        "    data['word'].append(word)\n",
        "    data['token_id'].append(idx)\n",
        "    data['embedding'].append(model.wv[word].tolist())  # convert numpy array to list for easier handling in DataFrame\n",
        "\n",
        "df = pd.DataFrame(data)\n",
        "print(df)"
      ],
      "metadata": {
        "id": "ut2FlOwE90d3"
      },
      "execution_count": null,
      "outputs": []
    },
    {
      "cell_type": "markdown",
      "source": [
        "##Positional Embeddings\n",
        "Positional embeddings are used primarily in models like the Transformer to incorporate information about the position of tokens in the input sequence into the model. The idea is to add a vector to each token's embedding that represents its position in the sequence, ensuring that the order of tokens contributes to the model's understanding.\n",
        "\n",
        "In the original Transformer architecture, positional embeddings are computed using sine and cosine functions of different frequencies:\n",
        "\n",
        "$$\n",
        "\\text{PE}(pos, 2i) = \\sin\\left(\\frac{pos}{10000^{2i/d_{\\text{model}}}}\\right) \\\\\n",
        "\\text{PE}(pos, 2i+1) = \\cos\\left(\\frac{pos}{10000^{2i/d_{\\text{model}}}}\\right)\n",
        "$$\n",
        "\n",
        "\n",
        "Where:\n",
        "\n",
        "$pos$ is the position of the token in the sequence.\n",
        "\n",
        "$i$ is the dimension index.\n",
        "\n",
        "$\n",
        "d_{model}\n",
        "$ is the dimensionality of the token embeddings.\n",
        "\n",
        "This formula helps the model to differentiate positions by providing a unique signal for each position, and the repeating patterns allow the model to generalize to sequence lengths that it has not seen before."
      ],
      "metadata": {
        "id": "QSzAD9ABFT9i"
      }
    },
    {
      "cell_type": "code",
      "source": [
        "def get_positional_embeddings(sequence_length, embedding_dim):\n",
        "    positional_embeddings = np.zeros((sequence_length, embedding_dim))\n",
        "    for pos in range(sequence_length):\n",
        "        for i in range(embedding_dim):\n",
        "            if i % 2 == 0:\n",
        "                positional_embeddings[pos, i] = np.sin(pos / (10000 ** ((2 * i) / embedding_dim)))\n",
        "            else:\n",
        "                positional_embeddings[pos, i] = np.cos(pos / (10000 ** ((2 * i) / embedding_dim)))\n",
        "    return positional_embeddings\n"
      ],
      "metadata": {
        "id": "9Mu322EWn3oT"
      },
      "execution_count": null,
      "outputs": []
    },
    {
      "cell_type": "markdown",
      "source": [
        "##Training Data\n",
        "Our main objective is to predict the next word (token) based on the previous 5 words (tokens). Thus, our context length is 5.\n",
        "\n",
        "We will prepare the training data such that inputs are 5 consecutive words (token) and the output to be predicted is the 6th word (token). If the input has less than 5 words (tokens), we will pad it with \\<pad>.\n",
        "\n",
        "Add stuff about positional embeddings"
      ],
      "metadata": {
        "id": "sem7F-I3_qLS"
      }
    },
    {
      "cell_type": "code",
      "source": [
        "def generate_training_data(sentences, model_wv, window_size=5):\n",
        "    embedding_dim = model_wv.vector_size\n",
        "    X, y = [], []\n",
        "    sequence_texts = []  # For storing the actual sequences of words\n",
        "    next_words = []  # For storing the actual next word\n",
        "    positional_embeddings = get_positional_embeddings(window_size, embedding_dim)\n",
        "\n",
        "    for sentence in sentences:\n",
        "        # Embed words using the Word2Vec model\n",
        "        embedded_sentence = [model_wv[word] for word in sentence if word in model_wv]\n",
        "        word_sentence = [word for word in sentence if word in model_wv]  # Keep the actual words for viewing\n",
        "\n",
        "        # Create sequences\n",
        "        for i in range(len(embedded_sentence)):\n",
        "            end_ix = i + window_size\n",
        "            if end_ix >= len(embedded_sentence):\n",
        "                break\n",
        "            seq_x, seq_y = embedded_sentence[i:end_ix], embedded_sentence[end_ix]\n",
        "            seq_text, next_word = word_sentence[i:end_ix], word_sentence[end_ix]\n",
        "\n",
        "            # Pad sequence if necessary\n",
        "            padding_length = window_size - len(seq_x)\n",
        "            seq_x += [np.zeros(embedding_dim)] * padding_length\n",
        "            seq_text += ['<pad>'] * padding_length\n",
        "\n",
        "            # Add positional embeddings\n",
        "            modified_seq_x = np.array(seq_x) + positional_embeddings[:len(seq_x)]\n",
        "\n",
        "            X.append(modified_seq_x.flatten())\n",
        "            y.append(seq_y)\n",
        "            sequence_texts.append(' '.join(seq_text))\n",
        "            next_words.append(next_word)\n",
        "\n",
        "    return np.array(X), np.array(y), sequence_texts, next_words\n"
      ],
      "metadata": {
        "id": "j9KWNVeVn5zD"
      },
      "execution_count": null,
      "outputs": []
    },
    {
      "cell_type": "code",
      "source": [
        "X_train, y_train, train_sequences, train_next_words = generate_training_data(sentences, model.wv)"
      ],
      "metadata": {
        "id": "X7jMQJ-Fn5wC"
      },
      "execution_count": null,
      "outputs": []
    },
    {
      "cell_type": "code",
      "source": [
        "# Create DataFrame\n",
        "train_df = pd.DataFrame({\n",
        "    'Sequence': train_sequences,\n",
        "    'Next Word': train_next_words,\n",
        "    'X_train (Flattened Embeddings)': list(X_train),\n",
        "    'y_train (Embedding)': list(y_train)})"
      ],
      "metadata": {
        "id": "sED1oOh7n5uT"
      },
      "execution_count": null,
      "outputs": []
    },
    {
      "cell_type": "code",
      "source": [
        "train_df.head()"
      ],
      "metadata": {
        "id": "RgU0IPbZn5qD"
      },
      "execution_count": null,
      "outputs": []
    },
    {
      "cell_type": "markdown",
      "source": [
        "Our training dataset has 134,306 data points. Each data point has 6 words (tokens), and thus the total number of words (tokens) for training is 134,306 * 6 = 805,836."
      ],
      "metadata": {
        "id": "oimxyIyo7DU9"
      }
    },
    {
      "cell_type": "code",
      "source": [
        "train_df.shape\n",
        "# train_df.head()"
      ],
      "metadata": {
        "id": "0A9NtzIFA1i5"
      },
      "execution_count": null,
      "outputs": []
    },
    {
      "cell_type": "markdown",
      "source": [
        "#Neural Network Design\n",
        "This time we will add two more layers to have the following structure.\n",
        "\n",
        "1. Input layer: 25 nodes (5 words(tokens) with embedding size of 5 for each).\n",
        "2. Attention-Like Layer: 25 nodes. A dense layer can serve as a basic form of attention by processing input features, although true attention mechanisms (like those in transformers) are more complex.\n",
        "3. Hidden layer: 10 nodes.\n",
        "4. Output layer: 5 nodes (for the predicted next word (token)).\n",
        "_________________________________________________________________\n",
        "\n",
        "![My Image](https://drive.google.com/uc?export=view&id=1lcTDUrhvAgz85zOgFPK2Nzdeiqou3jlP)\n"
      ],
      "metadata": {
        "id": "QqdrzAMjBgBx"
      }
    },
    {
      "cell_type": "code",
      "source": [
        "import numpy as np\n",
        "import pandas as pd\n",
        "from keras.models import Sequential\n",
        "from keras.layers import Dense, Embedding, Flatten, Add, Input, Lambda\n",
        "import tensorflow as tf\n",
        "from keras import Model\n"
      ],
      "metadata": {
        "id": "5V9KKsM5wb9m"
      },
      "execution_count": null,
      "outputs": []
    },
    {
      "cell_type": "code",
      "source": [
        "from keras.layers import Dense, Activation, InputLayer, Lambda\n",
        "import keras.backend as K\n",
        "from keras.models import Sequential\n",
        "\n",
        "def build_attention_model(input_dim, attention_nodes, hidden_nodes, output_dim):\n",
        "    model = Sequential([\n",
        "        InputLayer(input_shape=(input_dim,)),  # Input layer specifying input shape\n",
        "        Dense(attention_nodes),  # Attention-like layer without activation\n",
        "        Activation('softmax'),  # Apply softmax to simulate attention properly\n",
        "        Dense(hidden_nodes, activation='relu'),  # Hidden layer\n",
        "        Dense(output_dim, activation='linear')  # Output layer for the embeddings\n",
        "    ])\n",
        "    model.compile(optimizer='adam', loss='mse', metrics=['accuracy'])\n",
        "    return model\n",
        "\n",
        "# Build and summarize the model\n",
        "input_dim = 25  # Total input dimensions (5 words * 5 dimensions each)\n",
        "attention_nodes = 25  # Nodes in the attention layer\n",
        "hidden_nodes = 10  # Nodes in the hidden layer\n",
        "output_dim = 5  # Dimensions of the output embeddings\n",
        "\n",
        "attention_model = build_attention_model(input_dim, attention_nodes, hidden_nodes, output_dim)\n",
        "attention_model.summary()\n"
      ],
      "metadata": {
        "id": "EmKdFPYnwzaG"
      },
      "execution_count": null,
      "outputs": []
    },
    {
      "cell_type": "markdown",
      "source": [
        "# Build and train the model\n",
        "**Takes a long time - about an hour on my machine**\n",
        "\n",
        "**I have saved the trained model (`at_model.h5`). To run the trained model you simply have to load the saved model and run it. **"
      ],
      "metadata": {
        "id": "VP4CbZBt7Nfq"
      }
    },
    {
      "cell_type": "code",
      "source": [
        "# Example: Train the model with the training data\n",
        "attention_model.fit(X_train, y_train, epochs=50, batch_size=32)\n",
        "attention_model.save('at_model.h5')\n"
      ],
      "metadata": {
        "id": "hhPL0D2cw66U"
      },
      "execution_count": null,
      "outputs": []
    },
    {
      "cell_type": "code",
      "source": [
        "from keras.models import load_model\n",
        "at_model = load_model('at_model.h5')\n"
      ],
      "metadata": {
        "id": "hOk4g9Scwk1W"
      },
      "execution_count": null,
      "outputs": []
    },
    {
      "cell_type": "markdown",
      "source": [
        "#Next word prediction"
      ],
      "metadata": {
        "id": "s6mvlp9uzGQW"
      }
    },
    {
      "cell_type": "code",
      "source": [
        "from keras.models import load_model\n",
        "from nltk.tokenize import word_tokenize\n",
        "import numpy as np\n",
        "from scipy.spatial.distance import cosine\n",
        "import nltk\n",
        "nltk.download('punkt')\n",
        "\n",
        "# Assuming `model` and `at_model` are loaded elsewhere and correctly:\n",
        "word2vec_model = model  # Assuming `model` is your Word2Vec model loaded correctly\n",
        "at_model = load_model('at_model.h5')  # Ensure this is loaded correctly as well\n",
        "\n",
        "def get_positional_embeddings(sequence_length, embedding_dim):\n",
        "    positional_embeddings = np.zeros((sequence_length, embedding_dim))\n",
        "    for pos in range(sequence_length):\n",
        "        for i in range(embedding_dim):\n",
        "            if i % 2 == 0:\n",
        "                positional_embeddings[pos, i] = np.sin(pos / (10000 ** ((2 * i) / embedding_dim)))\n",
        "            else:\n",
        "                positional_embeddings[pos, i] = np.cos(pos / (10000 ** ((2 * i) / embedding_dim)))\n",
        "    return positional_embeddings\n",
        "\n",
        "def preprocess_input_text(text, word2vec_model, sequence_length=5):\n",
        "    tokens = word_tokenize(text.lower())\n",
        "    embeddings = [word2vec_model.wv[token] for token in tokens if token in word2vec_model.wv]\n",
        "    embeddings += [np.zeros(word2vec_model.vector_size)] * (sequence_length - len(embeddings))\n",
        "    positional_embeddings = get_positional_embeddings(sequence_length, word2vec_model.vector_size)\n",
        "    modified_embeddings = [embed + pos_embed for embed, pos_embed in zip(embeddings, positional_embeddings)]\n",
        "    return np.concatenate(modified_embeddings)\n",
        "\n",
        "def find_top_five_words(embedding, word2vec_model):\n",
        "    word_distances = [(word, cosine(embedding, word2vec_model.wv[word])) for word in word2vec_model.wv.index_to_key]\n",
        "    word_distances.sort(key=lambda x: x[1])\n",
        "    return [word for word, _ in word_distances[:5]]\n",
        "\n",
        "def next_word_prediction(input_text, neural_model, word2vec_model):\n",
        "    input_vec = preprocess_input_text(input_text, word2vec_model)\n",
        "    predicted_embedding = neural_model.predict(np.array([input_vec]))[0]\n",
        "    return find_top_five_words(predicted_embedding, word2vec_model)\n"
      ],
      "metadata": {
        "id": "rskMV7O83ja1"
      },
      "execution_count": null,
      "outputs": []
    },
    {
      "cell_type": "code",
      "source": [
        "# Example usage\n",
        "input_text = \"they have\" # @param {type:\"string\"}\n",
        "predicted_words = next_word_prediction(input_text, at_model, word2vec_model)"
      ],
      "metadata": {
        "id": "Mpt3j5mS3jX-"
      },
      "execution_count": null,
      "outputs": []
    },
    {
      "cell_type": "code",
      "source": [
        "predicted_words"
      ],
      "metadata": {
        "id": "n1kaoea33jT-"
      },
      "execution_count": null,
      "outputs": []
    },
    {
      "cell_type": "markdown",
      "source": [
        "#Text Generation"
      ],
      "metadata": {
        "id": "j2ikOoLH5bBv"
      }
    },
    {
      "cell_type": "code",
      "source": [
        "def find_top_words(embedding, word2vec_model, top_n=20):\n",
        "    word_distances = [(word, cosine(embedding, word2vec_model.wv[word])) for word in word2vec_model.wv.index_to_key]\n",
        "    word_distances.sort(key=lambda x: x[1])\n",
        "    return word_distances[:top_n]\n",
        "\n",
        "import numpy as np\n",
        "import random\n",
        "\n",
        "def generate_text(initial_text, model, word2vec_model, num_words):\n",
        "    generated_words = word_tokenize(initial_text.lower())\n",
        "    sequence_length = 5  # Assume the same sequence length as used in training\n",
        "\n",
        "    for _ in range(num_words):\n",
        "        # Preprocess the current text to input format\n",
        "        input_vec = preprocess_input_text(' '.join(generated_words[-sequence_length:]), word2vec_model, sequence_length)\n",
        "        predicted_embedding = model.predict(np.array([input_vec]))[0]\n",
        "\n",
        "        # Get top 20 predictions and randomly choose from them\n",
        "        top_predictions = find_top_words(predicted_embedding, word2vec_model, top_n=20)\n",
        "        next_word = random.choice(top_predictions)[0]\n",
        "\n",
        "        # Append the randomly chosen word\n",
        "        generated_words.append(next_word)\n",
        "\n",
        "    return ' '.join(generated_words)\n",
        "\n"
      ],
      "metadata": {
        "id": "KkbMoq_h3jPu"
      },
      "execution_count": null,
      "outputs": []
    },
    {
      "cell_type": "code",
      "source": [
        "# Example usage\n",
        "initial_text = \"they had lived in so\" # @param {type:\"string\"}\n",
        "num_words_to_generate = 50 # @param {type:\"integer\"}\n",
        "generated_text = generate_text(initial_text, at_model, word2vec_model, num_words_to_generate)"
      ],
      "metadata": {
        "id": "EXb_priF3jM2"
      },
      "execution_count": null,
      "outputs": []
    },
    {
      "cell_type": "code",
      "source": [
        "generated_text"
      ],
      "metadata": {
        "id": "0j4CS9fo3jJ-"
      },
      "execution_count": null,
      "outputs": []
    },
    {
      "cell_type": "markdown",
      "source": [
        "This is a slightly more advanced language model than the previous model but still performs rather poorly."
      ],
      "metadata": {
        "id": "02HvMRP2-vSE"
      }
    }
  ]
}